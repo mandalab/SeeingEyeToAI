{
 "cells": [
  {
   "attachments": {},
   "cell_type": "markdown",
   "metadata": {},
   "source": [
    "# 01 Visualize Eye-Tracking Dataset\n",
    "\n",
    "This notebook inspects the raw eye-tracking input folders (e.g. memento_new)"
   ]
  },
  {
   "cell_type": "code",
   "execution_count": 1,
   "metadata": {},
   "outputs": [],
   "source": [
    "import pandas as pd\n",
    "from pathlib import Path\n",
    "import os"
   ]
  },
  {
   "cell_type": "code",
   "execution_count": 10,
   "metadata": {},
   "outputs": [],
   "source": [
    "dataset = \"memento\" # or videomem"
   ]
  },
  {
   "cell_type": "code",
   "execution_count": 11,
   "metadata": {},
   "outputs": [],
   "source": [
    "DATA_DIR = Path('../dataset/'+dataset+'_fixations')"
   ]
  },
  {
   "attachments": {},
   "cell_type": "markdown",
   "metadata": {},
   "source": [
    "### 1. List subject/session folders"
   ]
  },
  {
   "cell_type": "code",
   "execution_count": 12,
   "metadata": {},
   "outputs": [
    {
     "name": "stdout",
     "output_type": "stream",
     "text": [
      "Found subject folders: ['001', '002', '003', '004', '005', '006', '007', '010']\n"
     ]
    }
   ],
   "source": [
    "subject_dirs = sorted([d for d in DATA_DIR.iterdir() if d.is_dir()])\n",
    "print(\"Found subject folders:\", [d.name for d in subject_dirs])"
   ]
  },
  {
   "attachments": {},
   "cell_type": "markdown",
   "metadata": {},
   "source": [
    "### 2. Inspect one folder structure (e.g., first subject)"
   ]
  },
  {
   "cell_type": "code",
   "execution_count": 13,
   "metadata": {},
   "outputs": [
    {
     "name": "stdout",
     "output_type": "stream",
     "text": [
      "\n",
      "Contents of 001:\n",
      " - .DS_Store\n",
      " - 001.evs\n",
      " - 001.res\n",
      " - Output\n"
     ]
    }
   ],
   "source": [
    "first = subject_dirs[0]\n",
    "print(f\"\\nContents of {first.name}:\")\n",
    "for item in sorted(first.iterdir()):\n",
    "    print(\" -\", item.name)"
   ]
  },
  {
   "cell_type": "code",
   "execution_count": 14,
   "metadata": {},
   "outputs": [
    {
     "name": "stdout",
     "output_type": "stream",
     "text": [
      "\n",
      "Files in ../dataset/videomem_fixations/001/Output:\n",
      "   * 001_fixation.xls\n",
      "   * 001_saccade.xls\n",
      "   * 001_sample.xls\n"
     ]
    }
   ],
   "source": [
    "output_dir = first / 'Output'\n",
    "if output_dir.exists():\n",
    "    print(f\"\\nFiles in {output_dir}:\")\n",
    "    for f in sorted(output_dir.iterdir()):\n",
    "        print(\"   *\", f.name)"
   ]
  },
  {
   "attachments": {},
   "cell_type": "markdown",
   "metadata": {},
   "source": [
    "### 3. Preview a fixation file as a DataFrame"
   ]
  },
  {
   "cell_type": "code",
   "execution_count": 15,
   "metadata": {},
   "outputs": [],
   "source": [
    "def read_data(filepath):\n",
    "    try:\n",
    "        # Try reading as Excel first\n",
    "        return pd.read_excel(filepath, engine='xlrd')\n",
    "    except:\n",
    "        # If that fails, try reading as CSV\n",
    "        return pd.read_csv(filepath, sep='\\t')"
   ]
  },
  {
   "cell_type": "code",
   "execution_count": 16,
   "metadata": {},
   "outputs": [
    {
     "name": "stdout",
     "output_type": "stream",
     "text": [
      "\n",
      "Preview of 001_fixation.xls:\n"
     ]
    },
    {
     "data": {
      "text/html": [
       "<div>\n",
       "<style scoped>\n",
       "    .dataframe tbody tr th:only-of-type {\n",
       "        vertical-align: middle;\n",
       "    }\n",
       "\n",
       "    .dataframe tbody tr th {\n",
       "        vertical-align: top;\n",
       "    }\n",
       "\n",
       "    .dataframe thead th {\n",
       "        text-align: right;\n",
       "    }\n",
       "</style>\n",
       "<table border=\"1\" class=\"dataframe\">\n",
       "  <thead>\n",
       "    <tr style=\"text-align: right;\">\n",
       "      <th></th>\n",
       "      <th>RECORDING_SESSION_LABEL</th>\n",
       "      <th>TRIAL_INDEX</th>\n",
       "      <th>CURRENT_FIX_ADJUSTED</th>\n",
       "      <th>CURRENT_FIX_BLINK_AROUND</th>\n",
       "      <th>CURRENT_FIX_BUTTON_0_PRESS</th>\n",
       "      <th>CURRENT_FIX_BUTTON_1_PRESS</th>\n",
       "      <th>CURRENT_FIX_BUTTON_2_PRESS</th>\n",
       "      <th>CURRENT_FIX_BUTTON_3_PRESS</th>\n",
       "      <th>CURRENT_FIX_BUTTON_4_PRESS</th>\n",
       "      <th>CURRENT_FIX_BUTTON_5_PRESS</th>\n",
       "      <th>...</th>\n",
       "      <th>TRIAL_FIXATION_TOTAL</th>\n",
       "      <th>TRIAL_LABEL</th>\n",
       "      <th>TRIAL_START_TIME</th>\n",
       "      <th>VIDEO_FRAME_INDEX_END</th>\n",
       "      <th>VIDEO_FRAME_INDEX_START</th>\n",
       "      <th>VIDEO_NAME_END</th>\n",
       "      <th>VIDEO_NAME_START</th>\n",
       "      <th>VARIABLE</th>\n",
       "      <th>repeat</th>\n",
       "      <th>video_clip</th>\n",
       "    </tr>\n",
       "  </thead>\n",
       "  <tbody>\n",
       "    <tr>\n",
       "      <th>0</th>\n",
       "      <td>1</td>\n",
       "      <td>1</td>\n",
       "      <td>False</td>\n",
       "      <td>NONE</td>\n",
       "      <td>.</td>\n",
       "      <td>.</td>\n",
       "      <td>.</td>\n",
       "      <td>.</td>\n",
       "      <td>.</td>\n",
       "      <td>.</td>\n",
       "      <td>...</td>\n",
       "      <td>11</td>\n",
       "      <td>Trial: 1</td>\n",
       "      <td>1290054</td>\n",
       "      <td>5</td>\n",
       "      <td>.</td>\n",
       "      <td>6331.mp4</td>\n",
       "      <td>.</td>\n",
       "      <td>(255, 255, 255)</td>\n",
       "      <td>0</td>\n",
       "      <td>6331.mp4</td>\n",
       "    </tr>\n",
       "    <tr>\n",
       "      <th>1</th>\n",
       "      <td>1</td>\n",
       "      <td>1</td>\n",
       "      <td>False</td>\n",
       "      <td>NONE</td>\n",
       "      <td>.</td>\n",
       "      <td>.</td>\n",
       "      <td>.</td>\n",
       "      <td>.</td>\n",
       "      <td>.</td>\n",
       "      <td>.</td>\n",
       "      <td>...</td>\n",
       "      <td>11</td>\n",
       "      <td>Trial: 1</td>\n",
       "      <td>1290054</td>\n",
       "      <td>23</td>\n",
       "      <td>6</td>\n",
       "      <td>6331.mp4</td>\n",
       "      <td>6331.mp4</td>\n",
       "      <td>(255, 255, 255)</td>\n",
       "      <td>0</td>\n",
       "      <td>6331.mp4</td>\n",
       "    </tr>\n",
       "    <tr>\n",
       "      <th>2</th>\n",
       "      <td>1</td>\n",
       "      <td>1</td>\n",
       "      <td>False</td>\n",
       "      <td>NONE</td>\n",
       "      <td>.</td>\n",
       "      <td>.</td>\n",
       "      <td>.</td>\n",
       "      <td>.</td>\n",
       "      <td>.</td>\n",
       "      <td>.</td>\n",
       "      <td>...</td>\n",
       "      <td>11</td>\n",
       "      <td>Trial: 1</td>\n",
       "      <td>1290054</td>\n",
       "      <td>28</td>\n",
       "      <td>24</td>\n",
       "      <td>6331.mp4</td>\n",
       "      <td>6331.mp4</td>\n",
       "      <td>(255, 255, 255)</td>\n",
       "      <td>0</td>\n",
       "      <td>6331.mp4</td>\n",
       "    </tr>\n",
       "    <tr>\n",
       "      <th>3</th>\n",
       "      <td>1</td>\n",
       "      <td>1</td>\n",
       "      <td>False</td>\n",
       "      <td>AFTER</td>\n",
       "      <td>.</td>\n",
       "      <td>.</td>\n",
       "      <td>.</td>\n",
       "      <td>.</td>\n",
       "      <td>.</td>\n",
       "      <td>.</td>\n",
       "      <td>...</td>\n",
       "      <td>11</td>\n",
       "      <td>Trial: 1</td>\n",
       "      <td>1290054</td>\n",
       "      <td>34</td>\n",
       "      <td>30</td>\n",
       "      <td>6331.mp4</td>\n",
       "      <td>6331.mp4</td>\n",
       "      <td>(255, 255, 255)</td>\n",
       "      <td>0</td>\n",
       "      <td>6331.mp4</td>\n",
       "    </tr>\n",
       "    <tr>\n",
       "      <th>4</th>\n",
       "      <td>1</td>\n",
       "      <td>1</td>\n",
       "      <td>False</td>\n",
       "      <td>BOTH</td>\n",
       "      <td>.</td>\n",
       "      <td>.</td>\n",
       "      <td>.</td>\n",
       "      <td>.</td>\n",
       "      <td>.</td>\n",
       "      <td>.</td>\n",
       "      <td>...</td>\n",
       "      <td>11</td>\n",
       "      <td>Trial: 1</td>\n",
       "      <td>1290054</td>\n",
       "      <td>55</td>\n",
       "      <td>47</td>\n",
       "      <td>6331.mp4</td>\n",
       "      <td>6331.mp4</td>\n",
       "      <td>(255, 255, 255)</td>\n",
       "      <td>0</td>\n",
       "      <td>6331.mp4</td>\n",
       "    </tr>\n",
       "  </tbody>\n",
       "</table>\n",
       "<p>5 rows × 232 columns</p>\n",
       "</div>"
      ],
      "text/plain": [
       "   RECORDING_SESSION_LABEL  TRIAL_INDEX  CURRENT_FIX_ADJUSTED  \\\n",
       "0                        1            1                 False   \n",
       "1                        1            1                 False   \n",
       "2                        1            1                 False   \n",
       "3                        1            1                 False   \n",
       "4                        1            1                 False   \n",
       "\n",
       "  CURRENT_FIX_BLINK_AROUND CURRENT_FIX_BUTTON_0_PRESS  \\\n",
       "0                     NONE                          .   \n",
       "1                     NONE                          .   \n",
       "2                     NONE                          .   \n",
       "3                    AFTER                          .   \n",
       "4                     BOTH                          .   \n",
       "\n",
       "  CURRENT_FIX_BUTTON_1_PRESS CURRENT_FIX_BUTTON_2_PRESS  \\\n",
       "0                          .                          .   \n",
       "1                          .                          .   \n",
       "2                          .                          .   \n",
       "3                          .                          .   \n",
       "4                          .                          .   \n",
       "\n",
       "  CURRENT_FIX_BUTTON_3_PRESS CURRENT_FIX_BUTTON_4_PRESS  \\\n",
       "0                          .                          .   \n",
       "1                          .                          .   \n",
       "2                          .                          .   \n",
       "3                          .                          .   \n",
       "4                          .                          .   \n",
       "\n",
       "  CURRENT_FIX_BUTTON_5_PRESS  ... TRIAL_FIXATION_TOTAL TRIAL_LABEL  \\\n",
       "0                          .  ...                   11    Trial: 1   \n",
       "1                          .  ...                   11    Trial: 1   \n",
       "2                          .  ...                   11    Trial: 1   \n",
       "3                          .  ...                   11    Trial: 1   \n",
       "4                          .  ...                   11    Trial: 1   \n",
       "\n",
       "  TRIAL_START_TIME  VIDEO_FRAME_INDEX_END  VIDEO_FRAME_INDEX_START  \\\n",
       "0          1290054                      5                        .   \n",
       "1          1290054                     23                        6   \n",
       "2          1290054                     28                       24   \n",
       "3          1290054                     34                       30   \n",
       "4          1290054                     55                       47   \n",
       "\n",
       "  VIDEO_NAME_END  VIDEO_NAME_START         VARIABLE repeat video_clip  \n",
       "0       6331.mp4                 .  (255, 255, 255)      0   6331.mp4  \n",
       "1       6331.mp4          6331.mp4  (255, 255, 255)      0   6331.mp4  \n",
       "2       6331.mp4          6331.mp4  (255, 255, 255)      0   6331.mp4  \n",
       "3       6331.mp4          6331.mp4  (255, 255, 255)      0   6331.mp4  \n",
       "4       6331.mp4          6331.mp4  (255, 255, 255)      0   6331.mp4  \n",
       "\n",
       "[5 rows x 232 columns]"
      ]
     },
     "metadata": {},
     "output_type": "display_data"
    }
   ],
   "source": [
    "fix_file = output_dir / f\"{first.name}_fixation.xls\"\n",
    "if fix_file.exists():\n",
    "    df_fix = read_data(fix_file)\n",
    "    print(f\"\\nPreview of {fix_file.name}:\")\n",
    "    display(df_fix.head())\n",
    "else:\n",
    "    print(f\"Fixation file not found at {fix_file}\")"
   ]
  }
 ],
 "metadata": {
  "kernelspec": {
   "display_name": "Python 3",
   "language": "python",
   "name": "python3"
  },
  "language_info": {
   "codemirror_mode": {
    "name": "ipython",
    "version": 3
   },
   "file_extension": ".py",
   "mimetype": "text/x-python",
   "name": "python",
   "nbconvert_exporter": "python",
   "pygments_lexer": "ipython3",
   "version": "3.9.6"
  },
  "orig_nbformat": 4,
  "vscode": {
   "interpreter": {
    "hash": "31f2aee4e71d21fbe5cf8b01ff0e069b9275f58929596ceb00d14d90e3e16cd6"
   }
  }
 },
 "nbformat": 4,
 "nbformat_minor": 2
}
