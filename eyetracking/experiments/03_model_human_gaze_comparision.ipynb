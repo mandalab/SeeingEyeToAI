{
 "cells": [
  {
   "attachments": {},
   "cell_type": "markdown",
   "metadata": {},
   "source": [
    "# 03 Model vs Human Gaze Comparison\n",
    " \n",
    "Load model-predicted saliency metrics and human-percentile scores, compute mean±SEM,\n",
    "and display a summary table."
   ]
  },
  {
   "cell_type": "code",
   "execution_count": 17,
   "metadata": {},
   "outputs": [],
   "source": [
    "import pickle\n",
    "import math\n",
    "import pandas as pd\n",
    "from pathlib import Path\n",
    "import matplotlib.pyplot as plt\n",
    "import seaborn as sns"
   ]
  },
  {
   "cell_type": "code",
   "execution_count": 18,
   "metadata": {},
   "outputs": [],
   "source": [
    "# Choose dataset: 'memento' or 'videomem'\n",
    "dataset = 'memento'\n",
    "\n",
    "# Paths for raw metric scores and human-percentile scores\n",
    "dirs = {\n",
    "    'memento': dict(\n",
    "        all_scores='./pickles/model_human_metrics/FINAL_memento_metrics_gaussianBeforeRescale.pkl',\n",
    "        auc_percentiles='./pickles/model_human_metrics/FINAL_memento_percentiles_all.pkl'\n",
    "    ),\n",
    "    'videomem': dict(\n",
    "        all_scores='./pickles/model_human_metrics/FINAL_videomem_metrics_gaussianBeforeRescale.pkl',\n",
    "        auc_percentiles='./pickles/model_human_metrics/FINAL_videomem_percentiles_all.pkl'\n",
    "    )\n",
    "}\n",
    "paths = dirs[dataset]"
   ]
  },
  {
   "cell_type": "code",
   "execution_count": 19,
   "metadata": {},
   "outputs": [],
   "source": [
    "# Load dictionaries\n",
    "with open(paths['all_scores'], 'rb') as f:\n",
    "    all_dict = pickle.load(f)\n",
    "with open(paths['auc_percentiles'], 'rb') as f:\n",
    "    auc_pct = pickle.load(f)"
   ]
  },
  {
   "cell_type": "code",
   "execution_count": 20,
   "metadata": {},
   "outputs": [],
   "source": [
    "# Wrap human percentiles under 'AUC_P'\n",
    "auc_dict = {'AUC_P': auc_pct}"
   ]
  },
  {
   "attachments": {},
   "cell_type": "markdown",
   "metadata": {},
   "source": [
    "### Compute mean and SEM"
   ]
  },
  {
   "cell_type": "code",
   "execution_count": 21,
   "metadata": {},
   "outputs": [],
   "source": [
    "def mean_sem(values):\n",
    "    \"\"\"Return (mean, sem) for list or dict values.\"\"\"\n",
    "    if isinstance(values, dict):\n",
    "        vals = [v for v in values.values() if not pd.isna(v)]\n",
    "    else:\n",
    "        vals = [v for v in values if not pd.isna(v)]\n",
    "    m = sum(vals) / len(vals)\n",
    "    std = math.sqrt(sum((x-m)**2 for x in vals) / len(vals))\n",
    "    return m, std / math.sqrt(len(vals))"
   ]
  },
  {
   "cell_type": "code",
   "execution_count": 22,
   "metadata": {},
   "outputs": [],
   "source": [
    "metrics = ['AUC_Judd', 'AUC_P', 'NSS', 'CC', 'KLD']\n",
    "results = []\n",
    "for met in metrics:\n",
    "    if met == 'AUC_P':\n",
    "        data = auc_dict.get(met, {})\n",
    "    else:\n",
    "        data = all_dict.get(met, {})\n",
    "    if data:\n",
    "        m, se = mean_sem(data)\n",
    "        results.append({'Metric': met, 'M-H': f\"{m:.2f} ± {se:.2f}\"})"
   ]
  },
  {
   "attachments": {},
   "cell_type": "markdown",
   "metadata": {},
   "source": [
    "### Build DataFrame"
   ]
  },
  {
   "cell_type": "code",
   "execution_count": 23,
   "metadata": {},
   "outputs": [],
   "source": [
    "df_summary = pd.DataFrame(results).set_index('Metric')\n",
    "df_summary.index = ['AUC-J ↑', 'AUC-P ↑', 'NSS ↑', 'CC ↑', 'KLD ↓']"
   ]
  },
  {
   "cell_type": "code",
   "execution_count": 24,
   "metadata": {},
   "outputs": [
    {
     "name": "stdout",
     "output_type": "stream",
     "text": [
      "Dataset: Videomem\n"
     ]
    },
    {
     "data": {
      "text/html": [
       "<div>\n",
       "<style scoped>\n",
       "    .dataframe tbody tr th:only-of-type {\n",
       "        vertical-align: middle;\n",
       "    }\n",
       "\n",
       "    .dataframe tbody tr th {\n",
       "        vertical-align: top;\n",
       "    }\n",
       "\n",
       "    .dataframe thead th {\n",
       "        text-align: right;\n",
       "    }\n",
       "</style>\n",
       "<table border=\"1\" class=\"dataframe\">\n",
       "  <thead>\n",
       "    <tr style=\"text-align: right;\">\n",
       "      <th></th>\n",
       "      <th>M-H</th>\n",
       "    </tr>\n",
       "  </thead>\n",
       "  <tbody>\n",
       "    <tr>\n",
       "      <th>AUC-J ↑</th>\n",
       "      <td>0.89 ± 0.01</td>\n",
       "    </tr>\n",
       "    <tr>\n",
       "      <th>AUC-P ↑</th>\n",
       "      <td>88.88 ± 1.28</td>\n",
       "    </tr>\n",
       "    <tr>\n",
       "      <th>NSS ↑</th>\n",
       "      <td>2.00 ± 0.07</td>\n",
       "    </tr>\n",
       "    <tr>\n",
       "      <th>CC ↑</th>\n",
       "      <td>0.27 ± 0.01</td>\n",
       "    </tr>\n",
       "    <tr>\n",
       "      <th>KLD ↓</th>\n",
       "      <td>2.65 ± 0.02</td>\n",
       "    </tr>\n",
       "  </tbody>\n",
       "</table>\n",
       "</div>"
      ],
      "text/plain": [
       "                  M-H\n",
       "AUC-J ↑   0.89 ± 0.01\n",
       "AUC-P ↑  88.88 ± 1.28\n",
       "NSS ↑     2.00 ± 0.07\n",
       "CC ↑      0.27 ± 0.01\n",
       "KLD ↓     2.65 ± 0.02"
      ]
     },
     "metadata": {},
     "output_type": "display_data"
    },
    {
     "data": {
      "text/plain": [
       "<Figure size 600x200 with 0 Axes>"
      ]
     },
     "metadata": {},
     "output_type": "display_data"
    }
   ],
   "source": [
    "plt.figure(figsize=(6,2))\n",
    "sns.set_style('whitegrid')\n",
    "print(f\"Dataset: {dataset.title()}\")\n",
    "display(df_summary)"
   ]
  }
 ],
 "metadata": {
  "kernelspec": {
   "display_name": "Python 3",
   "language": "python",
   "name": "python3"
  },
  "language_info": {
   "codemirror_mode": {
    "name": "ipython",
    "version": 3
   },
   "file_extension": ".py",
   "mimetype": "text/x-python",
   "name": "python",
   "nbconvert_exporter": "python",
   "pygments_lexer": "ipython3",
   "version": "3.9.6"
  },
  "orig_nbformat": 4,
  "vscode": {
   "interpreter": {
    "hash": "31f2aee4e71d21fbe5cf8b01ff0e069b9275f58929596ceb00d14d90e3e16cd6"
   }
  }
 },
 "nbformat": 4,
 "nbformat_minor": 2
}
